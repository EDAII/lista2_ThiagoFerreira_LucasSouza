{
 "cells": [
  {
   "cell_type": "markdown",
   "metadata": {},
   "source": [
    "# Lista 2 - Algoritmos de Ordenação\n",
    "\n",
    "## Alunos\n",
    "\n",
    "* Lucas S. Souza - 140151257\n",
    "* Thiago Ferreira - 15/0149948"
   ]
  },
  {
   "cell_type": "code",
   "execution_count": 218,
   "metadata": {},
   "outputs": [],
   "source": [
    "#Libs\n",
    "import numpy as np\n",
    "import time\n",
    "import random\n",
    "from random import randint\n",
    "import matplotlib.pyplot as plt\n",
    "from IPython.display import display, Markdown, Latex"
   ]
  },
  {
   "cell_type": "markdown",
   "metadata": {},
   "source": [
    "## Selection Sort"
   ]
  },
  {
   "cell_type": "code",
   "execution_count": 219,
   "metadata": {
    "scrolled": true
   },
   "outputs": [
    {
     "name": "stdout",
     "output_type": "stream",
     "text": [
      "[15, 23, 1, 56, 38, 78, 2, 0]\n",
      "[0, 23, 1, 56, 38, 78, 2, 15]\n",
      "[0, 1, 23, 56, 38, 78, 2, 15]\n",
      "[0, 1, 2, 56, 38, 78, 23, 15]\n",
      "[0, 1, 2, 15, 38, 78, 23, 56]\n",
      "[0, 1, 2, 15, 23, 78, 38, 56]\n",
      "[0, 1, 2, 15, 23, 38, 78, 56]\n",
      "[0, 1, 2, 15, 23, 38, 56, 78]\n",
      "[0, 1, 2, 15, 23, 38, 56, 78]\n"
     ]
    }
   ],
   "source": [
    "#Código do slide do professor adaptado e reescrito de java para Python\n",
    "\n",
    "def selectionSort(lista,printar_processo):\n",
    "    posicao_minima = 0\n",
    "    variavel_swap = 0\n",
    "    \n",
    "    if(printar_processo == True):\n",
    "        print(lista)\n",
    "    \n",
    "    for posicao in range (len(lista)):\n",
    "        posicao_minima = posicao\n",
    "        for valor in range (posicao+1, len(lista)):\n",
    "            if(lista[valor] < lista[posicao_minima]):\n",
    "                posicao_minima = valor\n",
    "        if(posicao_minima != posicao):\n",
    "            variavel_swap = lista[posicao_minima]\n",
    "            lista[posicao_minima] = lista[posicao]\n",
    "            lista[posicao] = variavel_swap\n",
    "            \n",
    "            if(printar_processo == True):\n",
    "                print(lista)\n",
    "    \n",
    "    if(printar_processo == True):\n",
    "        print(lista)\n",
    "    \n",
    "    return lista\n",
    "\n",
    "#Teste do algoritmo\n",
    "resultado = selectionSort([15,23,1,56,38,78,2,0], True)\n",
    "            \n"
   ]
  },
  {
   "cell_type": "markdown",
   "metadata": {},
   "source": [
    "## Insertion Sort"
   ]
  },
  {
   "cell_type": "code",
   "execution_count": 220,
   "metadata": {},
   "outputs": [
    {
     "name": "stdout",
     "output_type": "stream",
     "text": [
      "[15, 23, 1, 56, 38, 78, 2, 0]\n",
      "[15, 1, 23, 56, 38, 78, 2, 0]\n",
      "[1, 15, 23, 56, 38, 78, 2, 0]\n",
      "[1, 15, 23, 38, 56, 78, 2, 0]\n",
      "[1, 15, 23, 38, 56, 2, 78, 0]\n",
      "[1, 15, 23, 38, 2, 56, 78, 0]\n",
      "[1, 15, 23, 2, 38, 56, 78, 0]\n",
      "[1, 15, 2, 23, 38, 56, 78, 0]\n",
      "[1, 2, 15, 23, 38, 56, 78, 0]\n",
      "[1, 2, 15, 23, 38, 56, 0, 78]\n",
      "[1, 2, 15, 23, 38, 0, 56, 78]\n",
      "[1, 2, 15, 23, 0, 38, 56, 78]\n",
      "[1, 2, 15, 0, 23, 38, 56, 78]\n",
      "[1, 2, 0, 15, 23, 38, 56, 78]\n",
      "[1, 0, 2, 15, 23, 38, 56, 78]\n",
      "[0, 1, 2, 15, 23, 38, 56, 78]\n",
      "[0, 1, 2, 15, 23, 38, 56, 78]\n"
     ]
    }
   ],
   "source": [
    "#Código do slide do professor adaptado e reescrito de java para Python\n",
    "\n",
    "def insertionSort(lista, printar_processo):\n",
    "    \n",
    "    tamanho_lista = len(lista)\n",
    "    auxiliar_posicao_lista = 0\n",
    "    auxiliar_swap = 0\n",
    "    \n",
    "    if(printar_processo == True):\n",
    "        print(lista)\n",
    "\n",
    "    \n",
    "    for valor in range(1, tamanho_lista):\n",
    "        \n",
    "        auxiliar_posicao_lista = valor\n",
    "        \n",
    "        while((auxiliar_posicao_lista != 0) and lista[auxiliar_posicao_lista] < lista[auxiliar_posicao_lista - 1]):\n",
    "\n",
    "            auxiliar_swap = lista[auxiliar_posicao_lista]\n",
    "            lista[auxiliar_posicao_lista] = lista[auxiliar_posicao_lista - 1]\n",
    "            lista[auxiliar_posicao_lista - 1] = auxiliar_swap\n",
    "            auxiliar_posicao_lista -= 1\n",
    "            \n",
    "            if(printar_processo == True):\n",
    "                print(lista)\n",
    "            \n",
    "    if(printar_processo == True):\n",
    "        print(lista)\n",
    "            \n",
    "    return lista\n",
    "\n",
    "resultado = insertionSort([15,23,1,56,38,78,2,0],True)"
   ]
  },
  {
   "cell_type": "markdown",
   "metadata": {},
   "source": [
    "## Bubble Sort"
   ]
  },
  {
   "cell_type": "code",
   "execution_count": 221,
   "metadata": {},
   "outputs": [
    {
     "name": "stdout",
     "output_type": "stream",
     "text": [
      "[15, 23, 1, 56, 38, 78, 2, 0]\n",
      "[15, 1, 23, 56, 38, 78, 2, 0]\n",
      "[15, 1, 23, 38, 56, 78, 2, 0]\n",
      "[15, 1, 23, 38, 56, 2, 78, 0]\n",
      "[15, 1, 23, 38, 56, 2, 0, 78]\n",
      "[1, 15, 23, 38, 56, 2, 0, 78]\n",
      "[1, 15, 23, 38, 2, 56, 0, 78]\n",
      "[1, 15, 23, 38, 2, 0, 56, 78]\n",
      "[1, 15, 23, 2, 38, 0, 56, 78]\n",
      "[1, 15, 23, 2, 0, 38, 56, 78]\n",
      "[1, 15, 2, 23, 0, 38, 56, 78]\n",
      "[1, 15, 2, 0, 23, 38, 56, 78]\n",
      "[1, 2, 15, 0, 23, 38, 56, 78]\n",
      "[1, 2, 0, 15, 23, 38, 56, 78]\n",
      "[1, 0, 2, 15, 23, 38, 56, 78]\n",
      "[0, 1, 2, 15, 23, 38, 56, 78]\n"
     ]
    }
   ],
   "source": [
    "#Encontrado e adaptado a partir de: https://pt.stackoverflow.com/questions/284984/algoritmo-bubble-sort-em-python\n",
    "#Acesso em: 04/04/2019\n",
    "\n",
    "def bubbleSort(lista,printar_processo):\n",
    "        elementos = len(lista)-1\n",
    "        ordenado = False\n",
    "        \n",
    "        if(printar_processo == True):\n",
    "            print(lista)\n",
    "        \n",
    "        while not ordenado:\n",
    "            ordenado = True\n",
    "            for i in range(elementos):\n",
    "                if lista[i] > lista[i+1]:\n",
    "                    lista[i], lista[i+1] = lista[i+1], lista[i]\n",
    "                    ordenado = False\n",
    "                    if(printar_processo == True):\n",
    "                        print(lista)\n",
    "        return lista\n",
    "#Teste do algoritmo  \n",
    "resultado = bubbleSort([15,23,1,56,38,78,2,0],True)"
   ]
  },
  {
   "cell_type": "markdown",
   "metadata": {},
   "source": [
    "## Shell Sort"
   ]
  },
  {
   "cell_type": "code",
   "execution_count": 222,
   "metadata": {},
   "outputs": [
    {
     "name": "stdout",
     "output_type": "stream",
     "text": [
      "[15, 23, 1, 56, 38, 78, 2, 0]\n",
      "[15, 23, 1, 0, 38, 78, 2, 56]\n",
      "[1, 0, 2, 23, 15, 56, 38, 78]\n",
      "[0, 1, 2, 15, 23, 38, 56, 78]\n"
     ]
    }
   ],
   "source": [
    "#Código do slide do professor adaptado e reescrito de java para Python\n",
    "\n",
    "def shellSort(lista,printar_processo):\n",
    "    \n",
    "    tamanho_da_lista = len(lista)\n",
    "    gap = int(tamanho_da_lista / 2)\n",
    "    auxiliar_swap = 0\n",
    "    auxiliar_posicao = 0\n",
    "    \n",
    "    if(printar_processo == True):\n",
    "        print(lista)\n",
    "    \n",
    "    while(gap > 0):\n",
    "        \n",
    "        for posicao in range(tamanho_da_lista):\n",
    "            \n",
    "            auxiliar_swap = lista[posicao]\n",
    "            auxiliar_posicao = posicao\n",
    "            \n",
    "            while(auxiliar_posicao >= gap and lista[auxiliar_posicao-gap] > auxiliar_swap):\n",
    "                \n",
    "                lista[auxiliar_posicao] = lista[auxiliar_posicao - gap]\n",
    "                \n",
    "                auxiliar_posicao = auxiliar_posicao - gap\n",
    "            \n",
    "            lista[auxiliar_posicao] = auxiliar_swap\n",
    "        \n",
    "        gap = int(gap/2)\n",
    "        \n",
    "        if(printar_processo == True):\n",
    "            print(lista)\n",
    "\n",
    "resultado = shellSort([15,23,1,56,38,78,2,0],True)"
   ]
  },
  {
   "cell_type": "markdown",
   "metadata": {},
   "source": [
    "## Bucket Sort"
   ]
  },
  {
   "cell_type": "code",
   "execution_count": 223,
   "metadata": {},
   "outputs": [
    {
     "name": "stdout",
     "output_type": "stream",
     "text": [
      "[15, 23, 1, 56, 38, 78, 2, 0]\n",
      "[[], [], [], [], [], [], [], []]\n",
      "[[1, 2, 0], [15], [23], [38], [], [56], [], [78]]\n",
      "[[0, 1, 2], [15], [23], [38], [], [56], [], [78]]\n",
      "[0, 1, 2, 15, 23, 38, 56, 78]\n"
     ]
    }
   ],
   "source": [
    "#Encontrado e adaptado a partir de: https://www.sanfoundry.com/python-program-implement-bucket-sort/\n",
    "#Acesso em: 04/04/2019\n",
    "\n",
    "def bucketSort(alist, printar_processo):\n",
    "    \n",
    "    #dimensionando baldes\n",
    "    largest = max(alist)\n",
    "    length = len(alist)\n",
    "    size = largest/length\n",
    " \n",
    "    #criando baldes\n",
    "    buckets = [[] for _ in range(length)]\n",
    "\n",
    "    if(printar_processo == True):\n",
    "        print(buckets)\n",
    "    \n",
    "    #adicionando valores dentro dos baldes\n",
    "    for i in range(length):\n",
    "        j = int(alist[i]/size)\n",
    "        if j != length:\n",
    "            buckets[j].append(alist[i])\n",
    "        else:\n",
    "            buckets[length - 1].append(alist[i])\n",
    "\n",
    "    if(printar_processo == True):\n",
    "        print(buckets)\n",
    "\n",
    "    #ordenando baldes usando o insertion sort\n",
    "    for i in range(length):\n",
    "        insertionSort(buckets[i],False)\n",
    "\n",
    "    if(printar_processo == True):\n",
    "        print(buckets)\n",
    "\n",
    "    result = []\n",
    "    for i in range(length):\n",
    "        result = result + buckets[i]\n",
    " \n",
    "    return result\n",
    " \n",
    "\n",
    "lista = [15,23,1,56,38,78,2,0]\n",
    "print(lista)\n",
    "sorted_list = bucketSort(lista,True)\n",
    "print(sorted_list)\n",
    "\n"
   ]
  },
  {
   "cell_type": "markdown",
   "metadata": {},
   "source": [
    "## Quick Sort"
   ]
  },
  {
   "cell_type": "code",
   "execution_count": 224,
   "metadata": {},
   "outputs": [
    {
     "name": "stdout",
     "output_type": "stream",
     "text": [
      "[15, 23, 1, 56, 38, 78, 2, 0]\n",
      "[0, 1, 2, 15, 23, 38, 56, 78]\n"
     ]
    }
   ],
   "source": [
    "#Encontrado em: https://stackoverflow.com/questions/18262306/quicksort-with-python\n",
    "#Acesso em: 04/04/2019\n",
    "\n",
    "def quickSort(array):\n",
    "    less = []\n",
    "    equal = []\n",
    "    greater = []\n",
    "    \n",
    "    if len(array) > 1:\n",
    "        pivot = array[0]\n",
    "        for x in array:\n",
    "            if x < pivot:\n",
    "                less.append(x)\n",
    "            elif x == pivot:\n",
    "                equal.append(x)\n",
    "            elif x > pivot:\n",
    "                greater.append(x)\n",
    "        # Don't forget to return something!\n",
    "        return quickSort(less)+equal+quickSort(greater)  # Just use the + operator to join lists\n",
    "    # Note that you want equal ^^^^^ not pivot\n",
    "    else:  # You need to hande the part at the end of the recursion - when you only have one element in your array, just return the array.\n",
    "        return array\n",
    "\n",
    "lista = [15,23,1,56,38,78,2,0]\n",
    "print(lista)\n",
    "resultado = sort(lista)\n",
    "print(resultado)"
   ]
  },
  {
   "cell_type": "markdown",
   "metadata": {},
   "source": [
    "# Testes"
   ]
  },
  {
   "cell_type": "markdown",
   "metadata": {},
   "source": [
    "## Casos de teste:\n",
    "\n",
    "* **caso1**: 10 vetores com 2000 valores aleatórios desordenados;\n",
    "* **caso2**: 01 vetor com 2000 valores aleatórios em ordem decrescente;\n",
    "* **caso3**: 01 vetor com 2000 valores aleatórios ordenados;\n",
    "* **caso4**: 01 vetores com 2000 valores aleatórios onde metade dos valores estão ordenados e a outra metade não;\n",
    "* **caso5**: 10 vetores com 2000 valores onde todos estão ordenados exceto o último"
   ]
  },
  {
   "cell_type": "code",
   "execution_count": 225,
   "metadata": {},
   "outputs": [
    {
     "name": "stdout",
     "output_type": "stream",
     "text": [
      "Caso 1: ok\n",
      "Caso 2: ok\n",
      "Caso 3: ok\n",
      "Caso 4: ok\n",
      "Caso 5: ok\n"
     ]
    }
   ],
   "source": [
    "# Criacao dos vetores com os casos de teste\n",
    "\n",
    "# caso1\n",
    "caso1  = []\n",
    "\n",
    "for valor in range (0,10):\n",
    "        lista = random.sample(range(0,4000), 2000)\n",
    "        caso1.append(lista)\n",
    "\n",
    "print(\"Caso 1: ok\")\n",
    "\n",
    "# caso2\n",
    "\n",
    "caso2 = sort(random.sample(range(0,4000), 2000))\n",
    "\n",
    "print(\"Caso 2: ok\")\n",
    "\n",
    "# caso3\n",
    "\n",
    "caso3 = np.arange(1, 2001, dtype = int)\n",
    "\n",
    "print(\"Caso 3: ok\")\n",
    "\n",
    "# caso4\n",
    "\n",
    "\n",
    "caso4_parte1 = np.arange(1,1001, dtype = int)\n",
    "caso4_parte2 = random.sample(range(1001,4000), 1000)\n",
    "\n",
    "caso4 = np.append(caso4_parte1, caso4_parte2)\n",
    "\n",
    "print(\"Caso 4: ok\")\n",
    "\n",
    "# caso5\n",
    "\n",
    "caso5  = []\n",
    "\n",
    "for valor in range (0,10):\n",
    "        lista = random.sample(range(1,4000), 2000)\n",
    "        lista[len(lista)-1] = 0\n",
    "        caso5.append(lista)\n",
    "\n",
    "print(\"Caso 5: ok\")"
   ]
  },
  {
   "cell_type": "markdown",
   "metadata": {},
   "source": [
    "## Caso de teste 1\n",
    "\n",
    "10 vetores com 2000 valores aleatórios desordenados"
   ]
  },
  {
   "cell_type": "code",
   "execution_count": 226,
   "metadata": {},
   "outputs": [
    {
     "name": "stdout",
     "output_type": "stream",
     "text": [
      "\n",
      "**********\n"
     ]
    },
    {
     "data": {
      "text/markdown": [
       "### Resultados numericos"
      ],
      "text/plain": [
       "<IPython.core.display.Markdown object>"
      ]
     },
     "metadata": {},
     "output_type": "display_data"
    },
    {
     "name": "stdout",
     "output_type": "stream",
     "text": [
      "Bubble: 0.0003826618194580078 segundos\n",
      "Insertion: 0.000691676139831543 segundos\n",
      "Shell: 0.007710099220275879 segundos\n",
      "Bucket: 0.013664317131042481 segundos\n",
      "Selection: 0.33166091442108153 segundos\n",
      "Quick: 0.681191086769104 segundos\n"
     ]
    },
    {
     "data": {
      "text/markdown": [
       "### Grafico"
      ],
      "text/plain": [
       "<IPython.core.display.Markdown object>"
      ]
     },
     "metadata": {},
     "output_type": "display_data"
    },
    {
     "data": {
      "text/plain": [
       "<function matplotlib.pyplot.show(*args, **kw)>"
      ]
     },
     "execution_count": 226,
     "metadata": {},
     "output_type": "execute_result"
    },
    {
     "data": {
      "image/png": "[encoded data removed]",
      "text/plain": [
       "<Figure size 432x288 with 1 Axes>"
      ]
     },
     "metadata": {
      "needs_background": "light"
     },
     "output_type": "display_data"
    }
   ],
   "source": [
    "tempo1 = []\n",
    "\n",
    "totalSelection = 0\n",
    "totalInsertion = 0\n",
    "totalBubble = 0\n",
    "totalShell = 0\n",
    "totalBucket = 0\n",
    "totalQuick = 0\n",
    "\n",
    "# CASO1\n",
    "\n",
    "print(\"\")\n",
    "for arr in caso1:\n",
    "    \n",
    "    inicioSelection = time.time()\n",
    "    selectionSort(arr,False)\n",
    "    fimSelection = time.time()\n",
    "    \n",
    "    totalSelection = totalSelection + (fimSelection - inicioSelection)\n",
    "    \n",
    "    inicioInsertion = time.time()\n",
    "    insertionSort(arr,False)\n",
    "    fimInsertion = time.time()\n",
    "    \n",
    "    totalInsertion = totalInsertion + (fimInsertion - inicioInsertion)\n",
    "    \n",
    "    inicioBubble = time.time()\n",
    "    bubbleSort(arr,False)\n",
    "    fimBubble = time.time()\n",
    "    \n",
    "    totalBubble = totalBubble + (fimBubble - inicioBubble)\n",
    "    \n",
    "    inicioShell = time.time()\n",
    "    shellSort(arr,False)\n",
    "    fimShell = time.time()\n",
    "    \n",
    "    totalShell = totalShell + (fimShell - inicioShell)\n",
    "    \n",
    "    inicioBucket = time.time()\n",
    "    bucketSort(arr,False)\n",
    "    fimBucket = time.time()\n",
    "    \n",
    "    totalBucket = totalBucket + (fimBucket - inicioBucket)\n",
    "    \n",
    "    inicioQuick = time.time()\n",
    "    quickSort(arr)\n",
    "    fimQuick = time.time()\n",
    "    \n",
    "    totalQuick = totalQuick + (fimQuick - inicioQuick)\n",
    "    \n",
    "    print(\"*\", end=\"\")\n",
    "print(\"\")\n",
    "\n",
    "\n",
    "totalSelection = totalSelection / 10\n",
    "\n",
    "totalInsertion = totalInsertion / 10\n",
    "\n",
    "totalBubble = totalBubble / 10\n",
    "\n",
    "totalShell = totalShell / 10\n",
    "\n",
    "totalBucket = totalBucket / 10\n",
    "\n",
    "totalQuick = totalQuick / 10\n",
    "\n",
    "display(Markdown('### Resultados numericos'))\n",
    "\n",
    "tempo1.append([totalSelection,\"Selection\"])\n",
    "tempo1.append([totalInsertion,\"Insertion\"])\n",
    "tempo1.append([totalBubble,\"Bubble\"])\n",
    "tempo1.append([totalShell,\"Shell\"])\n",
    "tempo1.append([totalBucket,\"Bucket\"])\n",
    "tempo1.append([totalQuick,\"Quick\"])\n",
    "\n",
    "tempo1 = sort(tempo1)\n",
    "\n",
    "for tempo in tempo1:\n",
    "    print(str(tempo[1])+\": \"+str(tempo[0])+\" segundos\")\n",
    "\n",
    "display(Markdown('### Grafico'))\n",
    "\n",
    "plt.plot([tempo1[0][1],tempo1[1][1],tempo1[2][1],tempo1[3][1],tempo1[4][1],tempo1[5][1]], \n",
    "         [tempo1[0][0],tempo1[1][0],tempo1[2][0],tempo1[3][0],tempo1[4][0],tempo1[5][0]], 'ro')\n",
    "plt.show\n"
   ]
  },
  {
   "cell_type": "markdown",
   "metadata": {},
   "source": [
    "## Caso de teste 2\n",
    "\n",
    "01 vetor com 2000 valores aleatórios em ordem decrescente"
   ]
  },
  {
   "cell_type": "code",
   "execution_count": 227,
   "metadata": {},
   "outputs": [
    {
     "name": "stdout",
     "output_type": "stream",
     "text": [
      "\n",
      "******\n"
     ]
    },
    {
     "data": {
      "text/markdown": [
       "### Resultados numericos"
      ],
      "text/plain": [
       "<IPython.core.display.Markdown object>"
      ]
     },
     "metadata": {},
     "output_type": "display_data"
    },
    {
     "name": "stdout",
     "output_type": "stream",
     "text": [
      "Bubble: 0.00044989585876464844 segundos\n",
      "Insertion: 0.0007529258728027344 segundos\n",
      "Shell: 0.008352994918823242 segundos\n",
      "Bucket: 0.015073299407958984 segundos\n",
      "Selection: 0.3293311595916748 segundos\n",
      "Quick: 0.666374683380127 segundos\n"
     ]
    },
    {
     "data": {
      "text/markdown": [
       "### Grafico"
      ],
      "text/plain": [
       "<IPython.core.display.Markdown object>"
      ]
     },
     "metadata": {},
     "output_type": "display_data"
    },
    {
     "data": {
      "text/plain": [
       "<function matplotlib.pyplot.show(*args, **kw)>"
      ]
     },
     "execution_count": 227,
     "metadata": {},
     "output_type": "execute_result"
    },
    {
     "data": {
      "image/png": "[encoded data removed]",
      "text/plain": [
       "<Figure size 432x288 with 1 Axes>"
      ]
     },
     "metadata": {
      "needs_background": "light"
     },
     "output_type": "display_data"
    }
   ],
   "source": [
    "tempo2 = []\n",
    "\n",
    "totalSelection = 0\n",
    "totalInsertion = 0\n",
    "totalBubble = 0\n",
    "totalShell = 0\n",
    "totalBucket = 0\n",
    "totalQuick = 0\n",
    "\n",
    "print(\"\")\n",
    "\n",
    "inicioSelection = time.time()\n",
    "selectionSort(caso2,False)\n",
    "fimSelection = time.time()\n",
    "\n",
    "totalSelection = totalSelection + (fimSelection - inicioSelection)\n",
    "\n",
    "print(\"*\", end=\"\")\n",
    "\n",
    "inicioInsertion = time.time()\n",
    "insertionSort(caso2,False)\n",
    "fimInsertion = time.time()\n",
    "\n",
    "totalInsertion = totalInsertion + (fimInsertion - inicioInsertion)\n",
    "\n",
    "print(\"*\", end=\"\")\n",
    "\n",
    "inicioBubble = time.time()\n",
    "bubbleSort(caso2,False)\n",
    "fimBubble = time.time()\n",
    "\n",
    "totalBubble = totalBubble + (fimBubble - inicioBubble)\n",
    "\n",
    "print(\"*\", end=\"\")\n",
    "\n",
    "inicioShell = time.time()\n",
    "shellSort(caso2,False)\n",
    "fimShell = time.time()\n",
    "\n",
    "totalShell = totalShell + (fimShell - inicioShell)\n",
    "\n",
    "print(\"*\", end=\"\")\n",
    "\n",
    "inicioBucket = time.time()\n",
    "bucketSort(caso2,False)\n",
    "fimBucket = time.time()\n",
    "\n",
    "totalBucket = totalBucket + (fimBucket - inicioBucket)\n",
    "\n",
    "print(\"*\", end=\"\")\n",
    "\n",
    "inicioQuick = time.time()\n",
    "quickSort(caso2)\n",
    "fimQuick = time.time()\n",
    "\n",
    "totalQuick = totalQuick + (fimQuick - inicioQuick)\n",
    "\n",
    "print(\"*\", end=\"\")\n",
    "\n",
    "print(\"\")\n",
    "    \n",
    "display(Markdown('### Resultados numericos'))\n",
    "\n",
    "tempo2.append([totalSelection,\"Selection\"])\n",
    "tempo2.append([totalInsertion,\"Insertion\"])\n",
    "tempo2.append([totalBubble,\"Bubble\"])\n",
    "tempo2.append([totalShell,\"Shell\"])\n",
    "tempo2.append([totalBucket,\"Bucket\"])\n",
    "tempo2.append([totalQuick,\"Quick\"])\n",
    "\n",
    "tempo2 = sort(tempo2)\n",
    "\n",
    "for tempo in tempo2:\n",
    "    print(str(tempo[1])+\": \"+str(tempo[0])+\" segundos\")\n",
    "\n",
    "display(Markdown('### Grafico'))\n",
    "\n",
    "plt.plot([tempo2[0][1],tempo2[1][1],tempo2[2][1],tempo2[3][1],tempo2[4][1],tempo2[5][1]], \n",
    "         [tempo2[0][0],tempo2[1][0],tempo2[2][0],tempo2[3][0],tempo2[4][0],tempo2[5][0]], 'ro')\n",
    "plt.show"
   ]
  },
  {
   "cell_type": "markdown",
   "metadata": {},
   "source": [
    "## Caso de teste 3\n",
    "\n",
    "01 vetor com 2000 valores aleatórios ordenados"
   ]
  },
  {
   "cell_type": "code",
   "execution_count": 228,
   "metadata": {},
   "outputs": [
    {
     "name": "stdout",
     "output_type": "stream",
     "text": [
      "\n",
      "******\n"
     ]
    },
    {
     "data": {
      "text/markdown": [
       "### Resultados numericos"
      ],
      "text/plain": [
       "<IPython.core.display.Markdown object>"
      ]
     },
     "metadata": {},
     "output_type": "display_data"
    },
    {
     "name": "stdout",
     "output_type": "stream",
     "text": [
      "Bubble: 0.0015485286712646484 segundos\n",
      "Insertion: 0.0017838478088378906 segundos\n",
      "Shell: 0.022994041442871094 segundos\n",
      "Bucket: 0.023957490921020508 segundos\n",
      "Quick: 1.0210773944854736 segundos\n",
      "Selection: 1.4060750007629395 segundos\n"
     ]
    },
    {
     "data": {
      "text/markdown": [
       "### Grafico"
      ],
      "text/plain": [
       "<IPython.core.display.Markdown object>"
      ]
     },
     "metadata": {},
     "output_type": "display_data"
    },
    {
     "data": {
      "text/plain": [
       "<function matplotlib.pyplot.show(*args, **kw)>"
      ]
     },
     "execution_count": 228,
     "metadata": {},
     "output_type": "execute_result"
    },
    {
     "data": {
      "image/png": "[encoded data removed]",
      "text/plain": [
       "<Figure size 432x288 with 1 Axes>"
      ]
     },
     "metadata": {
      "needs_background": "light"
     },
     "output_type": "display_data"
    }
   ],
   "source": [
    "tempo3 = []\n",
    "\n",
    "totalSelection = 0\n",
    "totalInsertion = 0\n",
    "totalBubble = 0\n",
    "totalShell = 0\n",
    "totalBucket = 0\n",
    "totalQuick = 0\n",
    "\n",
    "print(\"\")\n",
    "\n",
    "inicioSelection = time.time()\n",
    "selectionSort(caso3,False)\n",
    "fimSelection = time.time()\n",
    "\n",
    "totalSelection = totalSelection + (fimSelection - inicioSelection)\n",
    "\n",
    "print(\"*\", end=\"\")\n",
    "\n",
    "inicioInsertion = time.time()\n",
    "insertionSort(caso3,False)\n",
    "fimInsertion = time.time()\n",
    "\n",
    "totalInsertion = totalInsertion + (fimInsertion - inicioInsertion)\n",
    "\n",
    "print(\"*\", end=\"\")\n",
    "\n",
    "inicioBubble = time.time()\n",
    "bubbleSort(caso3,False)\n",
    "fimBubble = time.time()\n",
    "\n",
    "totalBubble = totalBubble + (fimBubble - inicioBubble)\n",
    "\n",
    "print(\"*\", end=\"\")\n",
    "\n",
    "inicioShell = time.time()\n",
    "shellSort(caso3,False)\n",
    "fimShell = time.time()\n",
    "\n",
    "totalShell = totalShell + (fimShell - inicioShell)\n",
    "\n",
    "print(\"*\", end=\"\")\n",
    "\n",
    "inicioBucket = time.time()\n",
    "bucketSort(caso3,False)\n",
    "fimBucket = time.time()\n",
    "\n",
    "totalBucket = totalBucket + (fimBucket - inicioBucket)\n",
    "\n",
    "print(\"*\", end=\"\")\n",
    "\n",
    "inicioQuick = time.time()\n",
    "quickSort(caso3)\n",
    "fimQuick = time.time()\n",
    "\n",
    "totalQuick = totalQuick + (fimQuick - inicioQuick)\n",
    "\n",
    "print(\"*\", end=\"\")\n",
    "\n",
    "print(\"\")\n",
    "    \n",
    "display(Markdown('### Resultados numericos'))\n",
    "\n",
    "tempo3.append([totalSelection,\"Selection\"])\n",
    "tempo3.append([totalInsertion,\"Insertion\"])\n",
    "tempo3.append([totalBubble,\"Bubble\"])\n",
    "tempo3.append([totalShell,\"Shell\"])\n",
    "tempo3.append([totalBucket,\"Bucket\"])\n",
    "tempo3.append([totalQuick,\"Quick\"])\n",
    "\n",
    "tempo3 = sort(tempo3)\n",
    "\n",
    "for tempo in tempo3:\n",
    "    print(str(tempo[1])+\": \"+str(tempo[0])+\" segundos\")\n",
    "\n",
    "display(Markdown('### Grafico'))\n",
    "\n",
    "plt.plot([tempo3[0][1],tempo3[1][1],tempo3[2][1],tempo3[3][1],tempo3[4][1],tempo3[5][1]], \n",
    "         [tempo3[0][0],tempo3[1][0],tempo3[2][0],tempo3[3][0],tempo3[4][0],tempo3[5][0]], 'ro')\n",
    "plt.show"
   ]
  },
  {
   "cell_type": "markdown",
   "metadata": {},
   "source": [
    "## Caso de teste 4\n",
    "\n",
    "01 vetores com 2000 valores aleatórios onde metade dos valores estão ordenados e a outra metade não"
   ]
  },
  {
   "cell_type": "code",
   "execution_count": 229,
   "metadata": {},
   "outputs": [
    {
     "name": "stdout",
     "output_type": "stream",
     "text": [
      "\n",
      "******\n"
     ]
    },
    {
     "data": {
      "text/markdown": [
       "### Resultados numericos"
      ],
      "text/plain": [
       "<IPython.core.display.Markdown object>"
      ]
     },
     "metadata": {},
     "output_type": "display_data"
    },
    {
     "name": "stdout",
     "output_type": "stream",
     "text": [
      "Bubble: 0.001558065414428711 segundos\n",
      "Insertion: 0.0018095970153808594 segundos\n",
      "Shell: 0.022609233856201172 segundos\n",
      "Bucket: 0.025937795639038086 segundos\n",
      "Quick: 1.0253171920776367 segundos\n",
      "Selection: 1.4302263259887695 segundos\n"
     ]
    },
    {
     "data": {
      "text/markdown": [
       "### Grafico"
      ],
      "text/plain": [
       "<IPython.core.display.Markdown object>"
      ]
     },
     "metadata": {},
     "output_type": "display_data"
    },
    {
     "data": {
      "text/plain": [
       "<function matplotlib.pyplot.show(*args, **kw)>"
      ]
     },
     "execution_count": 229,
     "metadata": {},
     "output_type": "execute_result"
    },
    {
     "data": {
      "image/png": "[encoded data removed]",
      "text/plain": [
       "<Figure size 432x288 with 1 Axes>"
      ]
     },
     "metadata": {
      "needs_background": "light"
     },
     "output_type": "display_data"
    }
   ],
   "source": [
    "tempo4 = []\n",
    "\n",
    "totalSelection = 0\n",
    "totalInsertion = 0\n",
    "totalBubble = 0\n",
    "totalShell = 0\n",
    "totalBucket = 0\n",
    "totalQuick = 0\n",
    "\n",
    "print(\"\")\n",
    "\n",
    "inicioSelection = time.time()\n",
    "selectionSort(caso4,False)\n",
    "fimSelection = time.time()\n",
    "\n",
    "totalSelection = totalSelection + (fimSelection - inicioSelection)\n",
    "\n",
    "print(\"*\", end=\"\")\n",
    "\n",
    "inicioInsertion = time.time()\n",
    "insertionSort(caso4,False)\n",
    "fimInsertion = time.time()\n",
    "\n",
    "totalInsertion = totalInsertion + (fimInsertion - inicioInsertion)\n",
    "\n",
    "print(\"*\", end=\"\")\n",
    "\n",
    "inicioBubble = time.time()\n",
    "bubbleSort(caso4,False)\n",
    "fimBubble = time.time()\n",
    "\n",
    "totalBubble = totalBubble + (fimBubble - inicioBubble)\n",
    "\n",
    "print(\"*\", end=\"\")\n",
    "\n",
    "inicioShell = time.time()\n",
    "shellSort(caso4,False)\n",
    "fimShell = time.time()\n",
    "\n",
    "totalShell = totalShell + (fimShell - inicioShell)\n",
    "\n",
    "print(\"*\", end=\"\")\n",
    "\n",
    "inicioBucket = time.time()\n",
    "bucketSort(caso4,False)\n",
    "fimBucket = time.time()\n",
    "\n",
    "totalBucket = totalBucket + (fimBucket - inicioBucket)\n",
    "\n",
    "print(\"*\", end=\"\")\n",
    "\n",
    "inicioQuick = time.time()\n",
    "quickSort(caso4)\n",
    "fimQuick = time.time()\n",
    "\n",
    "totalQuick = totalQuick + (fimQuick - inicioQuick)\n",
    "\n",
    "print(\"*\", end=\"\")\n",
    "\n",
    "\n",
    "print(\"\")\n",
    "    \n",
    "display(Markdown('### Resultados numericos'))\n",
    "\n",
    "tempo4.append([totalSelection,\"Selection\"])\n",
    "tempo4.append([totalInsertion,\"Insertion\"])\n",
    "tempo4.append([totalBubble,\"Bubble\"])\n",
    "tempo4.append([totalShell,\"Shell\"])\n",
    "tempo4.append([totalBucket,\"Bucket\"])\n",
    "tempo4.append([totalQuick,\"Quick\"])\n",
    "\n",
    "tempo4 = sort(tempo4)\n",
    "\n",
    "for tempo in tempo4:\n",
    "    print(str(tempo[1])+\": \"+str(tempo[0])+\" segundos\")\n",
    "\n",
    "display(Markdown('### Grafico'))\n",
    "\n",
    "plt.plot([tempo4[0][1],tempo4[1][1],tempo4[2][1],tempo4[3][1],tempo4[4][1],tempo4[5][1]], \n",
    "         [tempo4[0][0],tempo4[1][0],tempo4[2][0],tempo4[3][0],tempo4[4][0],tempo4[5][0]], 'ro')\n",
    "plt.show"
   ]
  },
  {
   "cell_type": "markdown",
   "metadata": {},
   "source": [
    "## Caso de teste 5\n",
    "\n",
    "10 vetores com 2000 valores onde todos estão ordenados exceto o último"
   ]
  },
  {
   "cell_type": "code",
   "execution_count": 230,
   "metadata": {},
   "outputs": [
    {
     "name": "stdout",
     "output_type": "stream",
     "text": [
      "\n",
      "**********\n"
     ]
    },
    {
     "data": {
      "text/markdown": [
       "### Resultados numericos"
      ],
      "text/plain": [
       "<IPython.core.display.Markdown object>"
      ]
     },
     "metadata": {},
     "output_type": "display_data"
    },
    {
     "name": "stdout",
     "output_type": "stream",
     "text": [
      "Bubble: 0.0003767490386962891 segundos\n",
      "Insertion: 0.0006833076477050781 segundos\n",
      "Shell: 0.00754237174987793 segundos\n",
      "Bucket: 0.013556504249572754 segundos\n",
      "Selection: 0.32905666828155516 segundos\n",
      "Quick: 0.670684552192688 segundos\n"
     ]
    },
    {
     "data": {
      "text/markdown": [
       "### Grafico"
      ],
      "text/plain": [
       "<IPython.core.display.Markdown object>"
      ]
     },
     "metadata": {},
     "output_type": "display_data"
    },
    {
     "data": {
      "text/plain": [
       "<function matplotlib.pyplot.show(*args, **kw)>"
      ]
     },
     "execution_count": 230,
     "metadata": {},
     "output_type": "execute_result"
    },
    {
     "data": {
      "image/png": "[encoded data removed]",
      "text/plain": [
       "<Figure size 432x288 with 1 Axes>"
      ]
     },
     "metadata": {
      "needs_background": "light"
     },
     "output_type": "display_data"
    }
   ],
   "source": [
    "tempo5 = []\n",
    "\n",
    "totalSelection = 0\n",
    "totalInsertion = 0\n",
    "totalBubble = 0\n",
    "totalShell = 0\n",
    "totalBucket = 0\n",
    "totalQuick = 0\n",
    "\n",
    "\n",
    "print(\"\")\n",
    "for arr in caso5:\n",
    "    \n",
    "    inicioSelection = time.time()\n",
    "    selectionSort(arr,False)\n",
    "    fimSelection = time.time()\n",
    "    \n",
    "    totalSelection = totalSelection + (fimSelection - inicioSelection)\n",
    "    \n",
    "    inicioInsertion = time.time()\n",
    "    insertionSort(arr,False)\n",
    "    fimInsertion = time.time()\n",
    "    \n",
    "    totalInsertion = totalInsertion + (fimInsertion - inicioInsertion)\n",
    "    \n",
    "    inicioBubble = time.time()\n",
    "    bubbleSort(arr,False)\n",
    "    fimBubble = time.time()\n",
    "    \n",
    "    totalBubble = totalBubble + (fimBubble - inicioBubble)\n",
    "    \n",
    "    inicioShell = time.time()\n",
    "    shellSort(arr,False)\n",
    "    fimShell = time.time()\n",
    "    \n",
    "    totalShell = totalShell + (fimShell - inicioShell)\n",
    "    \n",
    "    inicioBucket = time.time()\n",
    "    bucketSort(arr,False)\n",
    "    fimBucket = time.time()\n",
    "    \n",
    "    totalBucket = totalBucket + (fimBucket - inicioBucket)\n",
    "    \n",
    "    inicioQuick = time.time()\n",
    "    quickSort(arr)\n",
    "    fimQuick = time.time()\n",
    "    \n",
    "    totalQuick = totalQuick + (fimQuick - inicioQuick)\n",
    "    \n",
    "    print(\"*\", end=\"\")\n",
    "    \n",
    "\n",
    "print(\"\")\n",
    "\n",
    "totalSelection = totalSelection / 10\n",
    "\n",
    "totalInsertion = totalInsertion / 10\n",
    "\n",
    "totalBubble = totalBubble / 10\n",
    "\n",
    "totalShell = totalShell / 10\n",
    "\n",
    "totalBucket = totalBucket / 10\n",
    "\n",
    "totalQuick = totalQuick / 10\n",
    "    \n",
    "display(Markdown('### Resultados numericos'))\n",
    "\n",
    "tempo5.append([totalSelection,\"Selection\"])\n",
    "tempo5.append([totalInsertion,\"Insertion\"])\n",
    "tempo5.append([totalBubble,\"Bubble\"])\n",
    "tempo5.append([totalShell,\"Shell\"])\n",
    "tempo5.append([totalBucket,\"Bucket\"])\n",
    "tempo5.append([totalQuick,\"Quick\"])\n",
    "\n",
    "tempo5 = sort(tempo5)\n",
    "\n",
    "for tempo in tempo5:\n",
    "    print(str(tempo[1])+\": \"+str(tempo[0])+\" segundos\")\n",
    "\n",
    "display(Markdown('### Grafico'))\n",
    "\n",
    "plt.plot([tempo5[0][1],tempo5[1][1],tempo5[2][1],tempo5[3][1],tempo5[4][1],tempo5[5][1]], \n",
    "         [tempo5[0][0],tempo5[1][0],tempo5[2][0],tempo5[3][0],tempo5[4][0],tempo5[5][0]], 'ro')\n",
    "plt.show"
   ]
  },
  {
   "cell_type": "markdown",
   "metadata": {},
   "source": [
    "## Comentários e Análises\n",
    "\n",
    "[ESCREVER TEXTO]"
   ]
  }
 ],
 "metadata": {
  "kernelspec": {
   "display_name": "Python 3",
   "language": "python",
   "name": "python3"
  },
  "language_info": {
   "codemirror_mode": {
    "name": "ipython",
    "version": 3
   },
   "file_extension": ".py",
   "mimetype": "text/x-python",
   "name": "python",
   "nbconvert_exporter": "python",
   "pygments_lexer": "ipython3",
   "version": "3.6.7"
  }
 },
 "nbformat": 4,
 "nbformat_minor": 2
}

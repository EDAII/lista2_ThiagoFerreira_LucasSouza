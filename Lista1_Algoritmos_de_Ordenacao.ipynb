{
 "cells": [
  {
   "cell_type": "markdown",
   "metadata": {},
   "source": [
    "# Lista 2 - Algoritmos de Ordenação\n",
    "\n",
    "## Alunos\n",
    "\n",
    "* Lucas S. Souza - 140151257\n",
    "* Thiago Ferreira - 15/0149948"
   ]
  },
  {
   "cell_type": "markdown",
   "metadata": {},
   "source": [
    "## Casos de teste:\n",
    "\n",
    "* **caso1**: vetor com valores aleatórios desordenados;\n",
    "* **caso2**: vetor com valores aleatórios em ordem decrescente;\n",
    "* **caso3**: vetor com valores aleatórios ordenados;\n",
    "* **caso4**: vetor com valores aleatórios onde metade dos valores estão ordenados e a outra metade não;"
   ]
  },
  {
   "cell_type": "code",
   "execution_count": null,
   "metadata": {},
   "outputs": [],
   "source": [
    "# Criacao dos vetores com os casos de teste\n",
    "\n",
    "# caso1\n",
    "\n",
    "# caso2\n",
    "\n",
    "# caso3\n",
    "\n",
    "# caso4"
   ]
  },
  {
   "cell_type": "markdown",
   "metadata": {},
   "source": [
    "## Selection Sort"
   ]
  },
  {
   "cell_type": "code",
   "execution_count": 30,
   "metadata": {},
   "outputs": [
    {
     "name": "stdout",
     "output_type": "stream",
     "text": [
      "[15, 23, 1, 56, 38, 78, 2, 0]\n",
      "[0, 23, 1, 56, 38, 78, 2, 15]\n",
      "[0, 1, 23, 56, 38, 78, 2, 15]\n",
      "[0, 1, 2, 56, 38, 78, 23, 15]\n",
      "[0, 1, 2, 15, 38, 78, 23, 56]\n",
      "[0, 1, 2, 15, 23, 78, 38, 56]\n",
      "[0, 1, 2, 15, 23, 38, 78, 56]\n",
      "[0, 1, 2, 15, 23, 38, 56, 78]\n",
      "[0, 1, 2, 15, 23, 38, 56, 78]\n"
     ]
    }
   ],
   "source": [
    "#Código do slide do professor adaptado e reescrito em Python\n",
    "\n",
    "def SelectionSort(lista,printarProcesso):\n",
    "    posicao_minima = 0\n",
    "    variavel_swap = 0\n",
    "    \n",
    "    if(printarProcesso == True):\n",
    "        print(lista)\n",
    "    \n",
    "    for posicao in range (len(lista)):\n",
    "        posicao_minima = posicao\n",
    "        for valor in range (posicao+1, len(lista)):\n",
    "            if(lista[valor] < lista[posicao_minima]):\n",
    "                posicao_minima = valor\n",
    "        if(posicao_minima != posicao):\n",
    "            variavel_swap = lista[posicao_minima]\n",
    "            lista[posicao_minima] = lista[posicao]\n",
    "            lista[posicao] = variavel_swap\n",
    "            \n",
    "            if(printarProcesso == True):\n",
    "                print(lista)\n",
    "    \n",
    "    if(printarProcesso == True):\n",
    "        print(lista)\n",
    "    \n",
    "    return lista\n",
    "\n",
    "\n",
    "resultado = SelectionSort([15,23,1,56,38,78,2,0], True)\n",
    "            \n"
   ]
  },
  {
   "cell_type": "markdown",
   "metadata": {},
   "source": [
    "## Insertion Sort"
   ]
  },
  {
   "cell_type": "code",
   "execution_count": 2,
   "metadata": {},
   "outputs": [],
   "source": []
  },
  {
   "cell_type": "markdown",
   "metadata": {},
   "source": [
    "## Bubble Sort"
   ]
  },
  {
   "cell_type": "code",
   "execution_count": 31,
   "metadata": {},
   "outputs": [
    {
     "name": "stdout",
     "output_type": "stream",
     "text": [
      "[15, 23, 1, 56, 38, 78, 2, 0]\n",
      "[15, 1, 23, 56, 38, 78, 2, 0]\n",
      "[15, 1, 23, 38, 56, 78, 2, 0]\n",
      "[15, 1, 23, 38, 56, 2, 78, 0]\n",
      "[15, 1, 23, 38, 56, 2, 0, 78]\n",
      "[1, 15, 23, 38, 56, 2, 0, 78]\n",
      "[1, 15, 23, 38, 2, 56, 0, 78]\n",
      "[1, 15, 23, 38, 2, 0, 56, 78]\n",
      "[1, 15, 23, 2, 38, 0, 56, 78]\n",
      "[1, 15, 23, 2, 0, 38, 56, 78]\n",
      "[1, 15, 2, 23, 0, 38, 56, 78]\n",
      "[1, 15, 2, 0, 23, 38, 56, 78]\n",
      "[1, 2, 15, 0, 23, 38, 56, 78]\n",
      "[1, 2, 0, 15, 23, 38, 56, 78]\n",
      "[1, 0, 2, 15, 23, 38, 56, 78]\n",
      "[0, 1, 2, 15, 23, 38, 56, 78]\n"
     ]
    }
   ],
   "source": [
    "#Encontrado adaptado a partir de: https://pt.stackoverflow.com/questions/284984/algoritmo-bubble-sort-em-python\n",
    "#Acesso em: 04/04/2019\n",
    "\n",
    "def bubble_sort(lista,printarProcesso):\n",
    "        elementos = len(lista)-1\n",
    "        ordenado = False\n",
    "        \n",
    "        if(printarProcesso == True):\n",
    "            print(lista)\n",
    "        \n",
    "        while not ordenado:\n",
    "            ordenado = True\n",
    "            for i in range(elementos):\n",
    "                if lista[i] > lista[i+1]:\n",
    "                    lista[i], lista[i+1] = lista[i+1], lista[i]\n",
    "                    ordenado = False\n",
    "                    if(printarProcesso == True):\n",
    "                        print(lista)\n",
    "        return lista\n",
    "    \n",
    "resultado = bubble_sort([15,23,1,56,38,78,2,0],True)\n"
   ]
  },
  {
   "cell_type": "markdown",
   "metadata": {},
   "source": [
    "## Shell Sort"
   ]
  },
  {
   "cell_type": "code",
   "execution_count": null,
   "metadata": {},
   "outputs": [],
   "source": []
  },
  {
   "cell_type": "markdown",
   "metadata": {},
   "source": [
    "## Bucket Sort"
   ]
  },
  {
   "cell_type": "code",
   "execution_count": null,
   "metadata": {},
   "outputs": [],
   "source": []
  },
  {
   "cell_type": "markdown",
   "metadata": {},
   "source": [
    "## Quick Sort"
   ]
  },
  {
   "cell_type": "code",
   "execution_count": null,
   "metadata": {},
   "outputs": [],
   "source": []
  },
  {
   "cell_type": "markdown",
   "metadata": {},
   "source": [
    "## Gráficos e Resultados"
   ]
  },
  {
   "cell_type": "code",
   "execution_count": null,
   "metadata": {},
   "outputs": [],
   "source": []
  },
  {
   "cell_type": "markdown",
   "metadata": {},
   "source": [
    "## Comentários e Análises\n",
    "\n",
    "[ESCREVER TEXTO]"
   ]
  }
 ],
 "metadata": {
  "kernelspec": {
   "display_name": "Python 3",
   "language": "python",
   "name": "python3"
  },
  "language_info": {
   "codemirror_mode": {
    "name": "ipython",
    "version": 3
   },
   "file_extension": ".py",
   "mimetype": "text/x-python",
   "name": "python",
   "nbconvert_exporter": "python",
   "pygments_lexer": "ipython3",
   "version": "3.6.7"
  }
 },
 "nbformat": 4,
 "nbformat_minor": 2
}

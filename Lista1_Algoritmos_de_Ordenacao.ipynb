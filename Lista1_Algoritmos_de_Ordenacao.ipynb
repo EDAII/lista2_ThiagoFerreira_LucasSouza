{
 "cells": [
  {
   "cell_type": "markdown",
   "metadata": {},
   "source": [
    "# Lista 2 - Algoritmos de Ordenação\n",
    "\n",
    "## Alunos\n",
    "\n",
    "* Lucas S. Souza - 140151257\n",
    "* Thiago Ferreira - 15/0149948"
   ]
  },
  {
   "cell_type": "code",
   "execution_count": 157,
   "metadata": {},
   "outputs": [],
   "source": [
    "#Libs\n",
    "import numpy as np\n",
    "import time\n",
    "import random\n",
    "from random import randint"
   ]
  },
  {
   "cell_type": "markdown",
   "metadata": {},
   "source": [
    "## Casos de teste:\n",
    "\n",
    "* **caso1**: 10 vetores com 10000 valores aleatórios desordenados;\n",
    "* **caso2**: 01 vetor com 10000 valores aleatórios em ordem decrescente;\n",
    "* **caso3**: 01 vetor com 10000 valores aleatórios ordenados;\n",
    "* **caso4**: 10 vetores com 10000 valores aleatórios onde metade dos valores estão ordenados e a outra metade não;\n",
    "* **caso5**: 10 vetores com 10000 valores onde todos estão ordenados exceto o último"
   ]
  },
  {
   "cell_type": "code",
   "execution_count": 159,
   "metadata": {},
   "outputs": [
    {
     "name": "stdout",
     "output_type": "stream",
     "text": [
      "Caso 1: ok\n",
      "Caso 2: ok\n",
      "Caso 3: ok\n",
      "Caso 4: ok\n",
      "Caso 5: ok\n"
     ]
    }
   ],
   "source": [
    "# Criacao dos vetores com os casos de teste\n",
    "\n",
    "# caso1\n",
    "caso1  = []\n",
    "\n",
    "for valor in range (0,10):\n",
    "        lista = random.sample(range(0,20000), 10000)\n",
    "        caso1.append(lista)\n",
    "\n",
    "print(\"Caso 1: ok\")\n",
    "\n",
    "# caso2\n",
    "\n",
    "caso2 = sort(random.sample(range(0,20000), 10000))\n",
    "\n",
    "print(\"Caso 2: ok\")\n",
    "\n",
    "# caso3\n",
    "\n",
    "caso3 = np.arange(1, 10001, dtype = int)\n",
    "\n",
    "print(\"Caso 3: ok\")\n",
    "\n",
    "# caso4\n",
    "\n",
    "\n",
    "caso4_parte1 = np.arange(1,5001, dtype = int)\n",
    "caso4_parte2 = random.sample(range(5001,20000), 5000)\n",
    "\n",
    "caso4 = np.append(caso4_parte1, caso4_parte2)\n",
    "\n",
    "print(\"Caso 4: ok\")\n",
    "\n",
    "# caso5\n",
    "\n",
    "caso5  = []\n",
    "\n",
    "for valor in range (0,10):\n",
    "        lista = random.sample(range(1,20000), 10000)\n",
    "        lista[len(lista)-1] = 0\n",
    "        caso5.append(lista)\n",
    "\n",
    "print(\"Caso 5: ok\")"
   ]
  },
  {
   "cell_type": "markdown",
   "metadata": {},
   "source": [
    "## Selection Sort"
   ]
  },
  {
   "cell_type": "code",
   "execution_count": 94,
   "metadata": {
    "scrolled": true
   },
   "outputs": [
    {
     "name": "stdout",
     "output_type": "stream",
     "text": [
      "[15, 23, 1, 56, 38, 78, 2, 0]\n",
      "[0, 23, 1, 56, 38, 78, 2, 15]\n",
      "[0, 1, 23, 56, 38, 78, 2, 15]\n",
      "[0, 1, 2, 56, 38, 78, 23, 15]\n",
      "[0, 1, 2, 15, 38, 78, 23, 56]\n",
      "[0, 1, 2, 15, 23, 78, 38, 56]\n",
      "[0, 1, 2, 15, 23, 38, 78, 56]\n",
      "[0, 1, 2, 15, 23, 38, 56, 78]\n",
      "[0, 1, 2, 15, 23, 38, 56, 78]\n"
     ]
    }
   ],
   "source": [
    "#Código do slide do professor adaptado e reescrito de java para Python\n",
    "\n",
    "def selectionSort(lista,printar_processo):\n",
    "    posicao_minima = 0\n",
    "    variavel_swap = 0\n",
    "    \n",
    "    if(printar_processo == True):\n",
    "        print(lista)\n",
    "    \n",
    "    for posicao in range (len(lista)):\n",
    "        posicao_minima = posicao\n",
    "        for valor in range (posicao+1, len(lista)):\n",
    "            if(lista[valor] < lista[posicao_minima]):\n",
    "                posicao_minima = valor\n",
    "        if(posicao_minima != posicao):\n",
    "            variavel_swap = lista[posicao_minima]\n",
    "            lista[posicao_minima] = lista[posicao]\n",
    "            lista[posicao] = variavel_swap\n",
    "            \n",
    "            if(printar_processo == True):\n",
    "                print(lista)\n",
    "    \n",
    "    if(printar_processo == True):\n",
    "        print(lista)\n",
    "    \n",
    "    return lista\n",
    "\n",
    "#Teste do algoritmo\n",
    "resultado = selectionSort([15,23,1,56,38,78,2,0], True)\n",
    "            \n"
   ]
  },
  {
   "cell_type": "markdown",
   "metadata": {},
   "source": [
    "## Insertion Sort"
   ]
  },
  {
   "cell_type": "code",
   "execution_count": 95,
   "metadata": {},
   "outputs": [
    {
     "name": "stdout",
     "output_type": "stream",
     "text": [
      "[15, 23, 1, 56, 38, 78, 2, 0]\n",
      "[15, 1, 23, 56, 38, 78, 2, 0]\n",
      "[1, 15, 23, 56, 38, 78, 2, 0]\n",
      "[1, 15, 23, 38, 56, 78, 2, 0]\n",
      "[1, 15, 23, 38, 56, 2, 78, 0]\n",
      "[1, 15, 23, 38, 2, 56, 78, 0]\n",
      "[1, 15, 23, 2, 38, 56, 78, 0]\n",
      "[1, 15, 2, 23, 38, 56, 78, 0]\n",
      "[1, 2, 15, 23, 38, 56, 78, 0]\n",
      "[1, 2, 15, 23, 38, 56, 0, 78]\n",
      "[1, 2, 15, 23, 38, 0, 56, 78]\n",
      "[1, 2, 15, 23, 0, 38, 56, 78]\n",
      "[1, 2, 15, 0, 23, 38, 56, 78]\n",
      "[1, 2, 0, 15, 23, 38, 56, 78]\n",
      "[1, 0, 2, 15, 23, 38, 56, 78]\n",
      "[0, 1, 2, 15, 23, 38, 56, 78]\n",
      "[0, 1, 2, 15, 23, 38, 56, 78]\n"
     ]
    }
   ],
   "source": [
    "#Código do slide do professor adaptado e reescrito de java para Python\n",
    "\n",
    "def insertionSort(lista, printar_processo):\n",
    "    \n",
    "    tamanho_lista = len(lista)\n",
    "    auxiliar_posicao_lista = 0\n",
    "    auxiliar_swap = 0\n",
    "    \n",
    "    if(printar_processo == True):\n",
    "        print(lista)\n",
    "\n",
    "    \n",
    "    for valor in range(1, tamanho_lista):\n",
    "        \n",
    "        auxiliar_posicao_lista = valor\n",
    "        \n",
    "        while((auxiliar_posicao_lista != 0) and lista[auxiliar_posicao_lista] < lista[auxiliar_posicao_lista - 1]):\n",
    "\n",
    "            auxiliar_swap = lista[auxiliar_posicao_lista]\n",
    "            lista[auxiliar_posicao_lista] = lista[auxiliar_posicao_lista - 1]\n",
    "            lista[auxiliar_posicao_lista - 1] = auxiliar_swap\n",
    "            auxiliar_posicao_lista -= 1\n",
    "            \n",
    "            if(printar_processo == True):\n",
    "                print(lista)\n",
    "            \n",
    "    if(printar_processo == True):\n",
    "        print(lista)\n",
    "            \n",
    "    return lista\n",
    "\n",
    "resultado = insertionSort([15,23,1,56,38,78,2,0],True)"
   ]
  },
  {
   "cell_type": "markdown",
   "metadata": {},
   "source": [
    "## Bubble Sort"
   ]
  },
  {
   "cell_type": "code",
   "execution_count": 96,
   "metadata": {},
   "outputs": [
    {
     "name": "stdout",
     "output_type": "stream",
     "text": [
      "[15, 23, 1, 56, 38, 78, 2, 0]\n",
      "[15, 1, 23, 56, 38, 78, 2, 0]\n",
      "[15, 1, 23, 38, 56, 78, 2, 0]\n",
      "[15, 1, 23, 38, 56, 2, 78, 0]\n",
      "[15, 1, 23, 38, 56, 2, 0, 78]\n",
      "[1, 15, 23, 38, 56, 2, 0, 78]\n",
      "[1, 15, 23, 38, 2, 56, 0, 78]\n",
      "[1, 15, 23, 38, 2, 0, 56, 78]\n",
      "[1, 15, 23, 2, 38, 0, 56, 78]\n",
      "[1, 15, 23, 2, 0, 38, 56, 78]\n",
      "[1, 15, 2, 23, 0, 38, 56, 78]\n",
      "[1, 15, 2, 0, 23, 38, 56, 78]\n",
      "[1, 2, 15, 0, 23, 38, 56, 78]\n",
      "[1, 2, 0, 15, 23, 38, 56, 78]\n",
      "[1, 0, 2, 15, 23, 38, 56, 78]\n",
      "[0, 1, 2, 15, 23, 38, 56, 78]\n"
     ]
    }
   ],
   "source": [
    "#Encontrado e adaptado a partir de: https://pt.stackoverflow.com/questions/284984/algoritmo-bubble-sort-em-python\n",
    "#Acesso em: 04/04/2019\n",
    "\n",
    "def bubbleSort(lista,printar_processo):\n",
    "        elementos = len(lista)-1\n",
    "        ordenado = False\n",
    "        \n",
    "        if(printar_processo == True):\n",
    "            print(lista)\n",
    "        \n",
    "        while not ordenado:\n",
    "            ordenado = True\n",
    "            for i in range(elementos):\n",
    "                if lista[i] > lista[i+1]:\n",
    "                    lista[i], lista[i+1] = lista[i+1], lista[i]\n",
    "                    ordenado = False\n",
    "                    if(printar_processo == True):\n",
    "                        print(lista)\n",
    "        return lista\n",
    "#Teste do algoritmo  \n",
    "resultado = bubbleSort([15,23,1,56,38,78,2,0],True)"
   ]
  },
  {
   "cell_type": "markdown",
   "metadata": {},
   "source": [
    "## Shell Sort"
   ]
  },
  {
   "cell_type": "code",
   "execution_count": 97,
   "metadata": {},
   "outputs": [
    {
     "name": "stdout",
     "output_type": "stream",
     "text": [
      "[15, 23, 1, 56, 38, 78, 2, 0]\n",
      "[15, 23, 1, 0, 38, 78, 2, 56]\n",
      "[1, 0, 2, 23, 15, 56, 38, 78]\n",
      "[0, 1, 2, 15, 23, 38, 56, 78]\n"
     ]
    }
   ],
   "source": [
    "#Código do slide do professor adaptado e reescrito de java para Python\n",
    "\n",
    "def shellSort(lista,printar_processo):\n",
    "    \n",
    "    tamanho_da_lista = len(lista)\n",
    "    gap = int(tamanho_da_lista / 2)\n",
    "    auxiliar_swap = 0\n",
    "    auxiliar_posicao = 0\n",
    "    \n",
    "    if(printar_processo == True):\n",
    "        print(lista)\n",
    "    \n",
    "    while(gap > 0):\n",
    "        \n",
    "        for posicao in range(tamanho_da_lista):\n",
    "            \n",
    "            auxiliar_swap = lista[posicao]\n",
    "            auxiliar_posicao = posicao\n",
    "            \n",
    "            while(auxiliar_posicao >= gap and lista[auxiliar_posicao-gap] > auxiliar_swap):\n",
    "                \n",
    "                lista[auxiliar_posicao] = lista[auxiliar_posicao - gap]\n",
    "                \n",
    "                auxiliar_posicao = auxiliar_posicao - gap\n",
    "            \n",
    "            lista[auxiliar_posicao] = auxiliar_swap\n",
    "        \n",
    "        gap = int(gap/2)\n",
    "        \n",
    "        if(printar_processo == True):\n",
    "            print(lista)\n",
    "\n",
    "resultado = shellSort([15,23,1,56,38,78,2,0],True)"
   ]
  },
  {
   "cell_type": "markdown",
   "metadata": {},
   "source": [
    "## Bucket Sort"
   ]
  },
  {
   "cell_type": "code",
   "execution_count": 98,
   "metadata": {},
   "outputs": [
    {
     "name": "stdout",
     "output_type": "stream",
     "text": [
      "[15, 23, 1, 56, 38, 78, 2, 0]\n",
      "[[], [], [], [], [], [], [], []]\n",
      "[[1, 2, 0], [15], [23], [38], [], [56], [], [78]]\n",
      "[[0, 1, 2], [15], [23], [38], [], [56], [], [78]]\n",
      "[0, 1, 2, 15, 23, 38, 56, 78]\n"
     ]
    }
   ],
   "source": [
    "#Encontrado e adaptado a partir de: https://www.sanfoundry.com/python-program-implement-bucket-sort/\n",
    "#Acesso em: 04/04/2019\n",
    "\n",
    "def bucketSort(alist, printar_processo):\n",
    "    \n",
    "    #dimensionando baldes\n",
    "    largest = max(alist)\n",
    "    length = len(alist)\n",
    "    size = largest/length\n",
    " \n",
    "    #criando baldes\n",
    "    buckets = [[] for _ in range(length)]\n",
    "\n",
    "    if(printar_processo == True):\n",
    "        print(buckets)\n",
    "    \n",
    "    #adicionando valores dentro dos baldes\n",
    "    for i in range(length):\n",
    "        j = int(alist[i]/size)\n",
    "        if j != length:\n",
    "            buckets[j].append(alist[i])\n",
    "        else:\n",
    "            buckets[length - 1].append(alist[i])\n",
    "\n",
    "    if(printar_processo == True):\n",
    "        print(buckets)\n",
    "\n",
    "    #ordenando baldes usando o insertion sort\n",
    "    for i in range(length):\n",
    "        insertionSort(buckets[i],False)\n",
    "\n",
    "    if(printar_processo == True):\n",
    "        print(buckets)\n",
    "\n",
    "    result = []\n",
    "    for i in range(length):\n",
    "        result = result + buckets[i]\n",
    " \n",
    "    return result\n",
    " \n",
    "\n",
    "lista = [15,23,1,56,38,78,2,0]\n",
    "print(lista)\n",
    "sorted_list = bucketSort(lista,True)\n",
    "print(sorted_list)\n",
    "\n"
   ]
  },
  {
   "cell_type": "markdown",
   "metadata": {},
   "source": [
    "## Quick Sort"
   ]
  },
  {
   "cell_type": "code",
   "execution_count": 99,
   "metadata": {},
   "outputs": [
    {
     "name": "stdout",
     "output_type": "stream",
     "text": [
      "[15, 23, 1, 56, 38, 78, 2, 0]\n",
      "[0, 1, 2, 15, 23, 38, 56, 78]\n"
     ]
    }
   ],
   "source": [
    "#Encontrado em: https://stackoverflow.com/questions/18262306/quicksort-with-python\n",
    "#Acesso em: 04/04/2019\n",
    "\n",
    "def sort(array):\n",
    "    less = []\n",
    "    equal = []\n",
    "    greater = []\n",
    "    \n",
    "    if len(array) > 1:\n",
    "        pivot = array[0]\n",
    "        for x in array:\n",
    "            if x < pivot:\n",
    "                less.append(x)\n",
    "            elif x == pivot:\n",
    "                equal.append(x)\n",
    "            elif x > pivot:\n",
    "                greater.append(x)\n",
    "        # Don't forget to return something!\n",
    "        return sort(less)+equal+sort(greater)  # Just use the + operator to join lists\n",
    "    # Note that you want equal ^^^^^ not pivot\n",
    "    else:  # You need to hande the part at the end of the recursion - when you only have one element in your array, just return the array.\n",
    "        return array\n",
    "\n",
    "lista = [15,23,1,56,38,78,2,0]\n",
    "print(lista)\n",
    "resultado = sort(lista)\n",
    "print(resultado)"
   ]
  },
  {
   "cell_type": "markdown",
   "metadata": {},
   "source": [
    "## Gráficos e Resultados"
   ]
  },
  {
   "cell_type": "code",
   "execution_count": null,
   "metadata": {},
   "outputs": [],
   "source": []
  },
  {
   "cell_type": "markdown",
   "metadata": {},
   "source": [
    "## Comentários e Análises\n",
    "\n",
    "[ESCREVER TEXTO]"
   ]
  }
 ],
 "metadata": {
  "kernelspec": {
   "display_name": "Python 3",
   "language": "python",
   "name": "python3"
  },
  "language_info": {
   "codemirror_mode": {
    "name": "ipython",
    "version": 3
   },
   "file_extension": ".py",
   "mimetype": "text/x-python",
   "name": "python",
   "nbconvert_exporter": "python",
   "pygments_lexer": "ipython3",
   "version": "3.6.7"
  }
 },
 "nbformat": 4,
 "nbformat_minor": 2
}
